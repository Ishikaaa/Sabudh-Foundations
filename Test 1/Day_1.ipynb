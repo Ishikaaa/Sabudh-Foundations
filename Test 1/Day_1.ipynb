{
  "nbformat": 4,
  "nbformat_minor": 0,
  "metadata": {
    "colab": {
      "name": "Day 1.ipynb",
      "provenance": []
    },
    "kernelspec": {
      "name": "python3",
      "display_name": "Python 3"
    }
  },
  "cells": [
    {
      "cell_type": "code",
      "metadata": {
        "id": "mtxxgPTnfiiQ",
        "colab_type": "code",
        "colab": {
          "base_uri": "https://localhost:8080/",
          "height": 34
        },
        "outputId": "6d15c0e8-9adb-4851-9220-08c411acb9e4"
      },
      "source": [
        "# 1. Two Number Sum\n",
        "\n",
        "# Write a function that takes in a non-empty array of distinct integers and an integer representing a target sum. If any two numbers in the input array sum upto the target sum, the function should return them in an array, in any order. If no two numbers sum up to the target sum, the function should return an empty array. \n",
        "# Note that the target sum has to be obtained by summing two different integers in the array; you can't add a single integer to itself in order to obtain the target sum.You can assume that there will be at most one pair of numbers summing up to the target sum.\n",
        "\n",
        "# Sample Input 1\n",
        "# array = [3, 5, -4, 8, 11, 1, -1, 6]\n",
        "# targetSum = 10\n",
        "# Sample output 1\n",
        "# [-1, 11] // the numbers could be in reverse order\n",
        "# Optimal Solution: O(n) time | O(n) space - where n is the length of the input array.\n",
        "\n",
        "# Try it in terminal \n",
        "\n",
        "def twoNumberSum(array, targetSum):\n",
        "    check = \"check\"\n",
        "    if targetSum%2==0:\n",
        "      check = int(targetSum/2)\n",
        "    flag = 0\n",
        "    reverse_list=[]\n",
        "    for i in array:\n",
        "      if i==check:\n",
        "        flag+=1\n",
        "      else:\n",
        "        reverse_list.append(targetSum-i)\n",
        "    if flag>=2:\n",
        "      return [check, check]\n",
        "    set_array=set(array)\n",
        "    # set_array = {3, 5, -4, 8, 11, 1, -1, 6}\n",
        "    set_reverse=set(reverse_list)\n",
        "    # set_reverse = {7, 14, 2, -1, 9, 11, 4}\n",
        "    set_targetSum=set_array.intersection(set_reverse)\n",
        "    # {-1, 11}\n",
        "    return list(set_targetSum)\n",
        "\n",
        "if __name__=='__main__':\n",
        "  print(twoNumberSum([3, 5, -4, 8, 11, 1, -1, 6],10))\n"
      ],
      "execution_count": 1,
      "outputs": [
        {
          "output_type": "stream",
          "text": [
            "[11, -1]\n"
          ],
          "name": "stdout"
        }
      ]
    }
  ]
}